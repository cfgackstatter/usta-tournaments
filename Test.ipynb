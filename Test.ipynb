{
 "cells": [
  {
   "cell_type": "code",
   "execution_count": 43,
   "id": "c068dc06",
   "metadata": {},
   "outputs": [],
   "source": [
    "import requests\n",
    "import json\n",
    "import pandas as pd"
   ]
  },
  {
   "cell_type": "code",
   "execution_count": 75,
   "id": "fe0a7c2d",
   "metadata": {},
   "outputs": [],
   "source": [
    "search_endpoint = \"https://prd-usta-kube.clubspark.pro/unified-search-api/api/Search/tournaments/Query?indexSchema=tournament\"\n",
    "\n",
    "payload = {\n",
    "    \"options\":{\n",
    "        \"size\":20,\n",
    "        \"from\":0,\n",
    "        \"sortKey\":\"date\",\n",
    "        \"latitude\":40.71304702758789,\n",
    "        \"longitude\":-74.00723266601562\n",
    "    },\n",
    "    \"filters\":[\n",
    "        {\"key\":\"organisation-id\",\"items\":[]},\n",
    "        {\"key\":\"location-id\",\"items\":[]},\n",
    "        {\"key\":\"region-id\",\"items\":[]},\n",
    "        {\"key\":\"publish-target\",\"items\":[{\"value\":1}]},\n",
    "        {\"key\":\"level-category\",\"items\":[{\"value\":\"adult\"}],\"operator\":\"Or\"},\n",
    "        {\"key\":\"organisation-group\",\"items\":[],\"operator\":\"Or\"},\n",
    "        {\"key\":\"date-range\",\"items\":[{\"minDate\":\"2025-05-09T00:00:00.000Z\",\"maxDate\":\"2025-06-01T03:59:00.000Z\"}],\"operator\":\"Or\"},\n",
    "        {\"key\":\"distance\",\"items\":[{\"value\":100}],\"operator\":\"Or\"},\n",
    "        {\"key\":\"tournament-status\",\"items\":[],\"operator\":\"Or\"},\n",
    "        {\"key\":\"tournament-level\",\"items\":[],\"operator\":\"Or\"},\n",
    "        {\"key\":\"event-wtn-level\",\"items\":[],\"operator\":\"Or\"},\n",
    "        {\"key\":\"event-division-age-range\",\"items\":[],\"operator\":\"Or\"},\n",
    "        {\"key\":\"event-division-gender\",\"items\":[],\"operator\":\"Or\"},\n",
    "        {\"key\":\"event-ntrp-rating-level\",\"items\":[],\"operator\":\"Or\"},\n",
    "        {\"key\":\"event-division-age-category\",\"items\":[],\"operator\":\"Or\"},\n",
    "        {\"key\":\"event-division-event-type\",\"items\":[],\"operator\":\"Or\"},\n",
    "        {\"key\":\"event-court-location\",\"items\":[],\"operator\":\"Or\"},\n",
    "        {\"key\":\"event-surface\",\"items\":[],\"operator\":\"Or\"}]\n",
    "}\n",
    "\n",
    "headers = {\n",
    "    \"Content-Type\": \"application/json\"\n",
    "}\n",
    "\n",
    "response = requests.post(\n",
    "    search_endpoint,\n",
    "    json=payload,\n",
    "    headers=headers\n",
    ")\n",
    "\n",
    "results = response.json()"
   ]
  },
  {
   "cell_type": "code",
   "execution_count": 82,
   "id": "42cf1d74",
   "metadata": {},
   "outputs": [],
   "source": [
    "df = pd.read_parquet('data/tournaments_slim.parquet')"
   ]
  },
  {
   "cell_type": "code",
   "execution_count": null,
   "id": "f4520daf",
   "metadata": {},
   "outputs": [],
   "source": []
  }
 ],
 "metadata": {
  "kernelspec": {
   "display_name": "venv",
   "language": "python",
   "name": "python3"
  },
  "language_info": {
   "codemirror_mode": {
    "name": "ipython",
    "version": 3
   },
   "file_extension": ".py",
   "mimetype": "text/x-python",
   "name": "python",
   "nbconvert_exporter": "python",
   "pygments_lexer": "ipython3",
   "version": "3.10.12"
  }
 },
 "nbformat": 4,
 "nbformat_minor": 5
}
